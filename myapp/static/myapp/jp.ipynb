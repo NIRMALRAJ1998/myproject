{
 "cells": [
  {
   "cell_type": "code",
   "execution_count": 6,
   "id": "326e8fef",
   "metadata": {},
   "outputs": [
    {
     "name": "stdout",
     "output_type": "stream",
     "text": [
      "PDF saved successfully.\n"
     ]
    }
   ],
   "source": [
    "import base64\n",
    "import mysql.connector\n",
    "\n",
    "conn = mysql.connector.connect(\n",
    "    host=\"127.0.0.1\",\n",
    "    user=\"root\",\n",
    "    password=\"12345678\",\n",
    "    database=\"evolve\"\n",
    ")\n",
    "\n",
    "cursor = conn.cursor()\n",
    "cursor.execute(\"SELECT resume FROM myapp_careerapplication WHERE name = 'silambarasan'\")\n",
    "resume_encoded = cursor.fetchone()[0]\n",
    "\n",
    "resume_bytes = base64.b64decode(resume_encoded)\n",
    "\n",
    "with open(\"resume1_output.pdf\", \"wb\") as f:\n",
    "    f.write(resume_bytes)\n",
    "\n",
    "print(\"PDF saved successfully.\")"
   ]
  },
  {
   "cell_type": "code",
   "execution_count": 7,
   "id": "1410d1a6",
   "metadata": {},
   "outputs": [
    {
     "name": "stdout",
     "output_type": "stream",
     "text": [
      "Type of resume: <class 'str'>\n",
      "First 100 characters:\n",
      " resumes/Nirmal-Raj-_Data_Scientist-Resume_1.pdf\n"
     ]
    }
   ],
   "source": [
    "print(\"Type of resume:\", type(resume_encoded))\n",
    "print(\"First 100 characters:\\n\", resume_encoded[:100])"
   ]
  },
  {
   "cell_type": "code",
   "execution_count": null,
   "id": "71c9b4cf",
   "metadata": {},
   "outputs": [],
   "source": []
  }
 ],
 "metadata": {
  "kernelspec": {
   "display_name": "base",
   "language": "python",
   "name": "python3"
  },
  "language_info": {
   "codemirror_mode": {
    "name": "ipython",
    "version": 3
   },
   "file_extension": ".py",
   "mimetype": "text/x-python",
   "name": "python",
   "nbconvert_exporter": "python",
   "pygments_lexer": "ipython3",
   "version": "3.12.3"
  }
 },
 "nbformat": 4,
 "nbformat_minor": 5
}
